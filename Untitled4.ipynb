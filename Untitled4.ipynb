{
  "nbformat": 4,
  "nbformat_minor": 0,
  "metadata": {
    "colab": {
      "provenance": [],
      "authorship_tag": "ABX9TyPJibBgs7t1g3WKQXwa94yY",
      "include_colab_link": true
    },
    "kernelspec": {
      "name": "python3",
      "display_name": "Python 3"
    },
    "language_info": {
      "name": "python"
    }
  },
  "cells": [
    {
      "cell_type": "markdown",
      "metadata": {
        "id": "view-in-github",
        "colab_type": "text"
      },
      "source": [
        "<a href=\"https://colab.research.google.com/github/itzel24itslp-design/Entrega-/blob/main/Untitled4.ipynb\" target=\"_parent\"><img src=\"https://colab.research.google.com/assets/colab-badge.svg\" alt=\"Open In Colab\"/></a>"
      ]
    },
    {
      "cell_type": "code",
      "execution_count": 9,
      "metadata": {
        "colab": {
          "base_uri": "https://localhost:8080/"
        },
        "id": "ALmHkuoyFns6",
        "outputId": "ec0909e9-1516-442a-fa4c-b0125ca86a40"
      },
      "outputs": [
        {
          "output_type": "stream",
          "name": "stdout",
          "text": [
            "Tipo de dato de edad: <class 'int'>\n",
            "Tipo de dato de altura: <class 'float'>\n",
            "Tipo de dato de nombre completo: <class 'str'>\n"
          ]
        }
      ],
      "source": [
        "# Definir las variables\n",
        "edad = 25               # Número entero (int) con la edad\n",
        "altura = 1.75           # Número decimal (float) con la altura\n",
        "nombre_completo = \"Juan Pérez\"  # Cadena de texto (str) con el nombre completo\n",
        "\n",
        "# Mostrar el tipo de dato de cada variable\n",
        "print(f\"Tipo de dato de edad: {type(edad)}\")  # Mostramos el tipo de dato de la edad\n",
        "print(f\"Tipo de dato de altura: {type(altura)}\")  # Mostramos el tipo de dato de la altura\n",
        "print(f\"Tipo de dato de nombre completo: {type(nombre_completo)}\")  # Mostramos el tipo de dato del nombre completo"
      ]
    },
    {
      "cell_type": "code",
      "source": [
        "# Precios de los productos\n",
        "precio_1 = 125.50\n",
        "precio_2 = 89.99\n",
        "precio_3 = 39.75\n",
        "\n",
        "# Calcular el total de la compra\n",
        "total_compra = precio_1 + precio_2 + precio_3\n",
        "\n",
        "# Aplicar un descuento del 15%\n",
        "descuento = total_compra * 0.15\n",
        "precio_con_descuento = total_compra - descuento\n",
        "\n",
        "# Calcular el IVA del 16% sobre el precio con descuento\n",
        "iva = precio_con_descuento * 0.16\n",
        "\n",
        "# Calcular el total final a pagar\n",
        "total_final = precio_con_descuento + iva\n",
        "\n",
        "# Mostrar los resultados\n",
        "print(f\"Total de la compra: {total_compra:.2f}\")\n",
        "print(f\"Descuento aplicado: {descuento:.2f}\")\n",
        "print(f\"Precio con descuento: {precio_con_descuento:.2f}\")\n",
        "print(f\"IVA (16%): {iva:.2f}\")\n",
        "print(f\"Total final a pagar: {total_final:.2f}\")"
      ],
      "metadata": {
        "colab": {
          "base_uri": "https://localhost:8080/"
        },
        "id": "dxjnmjgQGSAz",
        "outputId": "a588184c-4c0b-4d09-a7fa-27dbea664ce7"
      },
      "execution_count": 3,
      "outputs": [
        {
          "output_type": "stream",
          "name": "stdout",
          "text": [
            "Total de la compra: 255.24\n",
            "Descuento aplicado: 38.29\n",
            "Precio con descuento: 216.95\n",
            "IVA (16%): 34.71\n",
            "Total final a pagar: 251.67\n"
          ]
        }
      ]
    },
    {
      "cell_type": "code",
      "source": [
        "# Variables de la primera parte\n",
        "edad = 25\n",
        "precio_1 = 125.50\n",
        "precio_2 = 89.99\n",
        "precio_3 = 39.75\n",
        "\n",
        "# Calcular el total de la compra (como en la parte 2)\n",
        "total_compra = precio_1 + precio_2 + precio_3\n",
        "\n",
        "# Total final (con descuento y IVA) de la parte 2\n",
        "descuento = total_compra * 0.15\n",
        "precio_con_descuento = total_compra - descuento\n",
        "iva = precio_con_descuento * 0.16\n",
        "total_final = precio_con_descuento + iva\n",
        "\n",
        "# Comparaciones\n",
        "es_mayor_18 = edad > 18  # Verifica si la edad es mayor a 18\n",
        "precio_mayor_100 = max(precio_1, precio_2, precio_3) > 100  # Verifica si el precio más alto es mayor a 100\n",
        "total_menor_200 = total_final <= 200  # Verifica si el total final de la compra es menor o igual a 200\n",
        "\n",
        "# Mostrar los resultados\n",
        "print(f\"¿Es tu edad mayor a 18? {es_mayor_18}\")  # True si es mayor, False si no lo es\n",
        "print(f\"¿El precio más alto es mayor que 100? {precio_mayor_100}\")  # True si el precio es mayor, False si no lo es\n",
        "print(f\"¿El total final de la compra es menor o igual a 200? {total_menor_200}\")  # True si es menor o igual, False si no lo es"
      ],
      "metadata": {
        "colab": {
          "base_uri": "https://localhost:8080/"
        },
        "id": "PiCi8UMiH1fz",
        "outputId": "b4d506a5-b446-40c2-f6ba-cd4b44453bdb"
      },
      "execution_count": 4,
      "outputs": [
        {
          "output_type": "stream",
          "name": "stdout",
          "text": [
            "¿Es tu edad mayor a 18? True\n",
            "¿El precio más alto es mayor que 100? True\n",
            "¿El total final de la compra es menor o igual a 200? False\n"
          ]
        }
      ]
    },
    {
      "cell_type": "code",
      "source": [
        "# Definición de las variables booleanas\n",
        "pago_tarjeta = True\n",
        "tiene_descuento = False\n",
        "\n",
        "# Evaluación de las expresiones\n",
        "# 1. ¿El cliente pagó con tarjeta y tiene descuento?\n",
        "expresion_1 = pago_tarjeta and tiene_descuento\n",
        "\n",
        "# 2. ¿El cliente pagó con tarjeta o tiene descuento?\n",
        "expresion_2 = pago_tarjeta or tiene_descuento\n",
        "\n",
        "# 3. Niega el valor de tiene_descuento\n",
        "expresion_3 = not tiene_descuento\n",
        "\n",
        "# Mostrar los resultados\n",
        "print(f\"¿El cliente pagó con tarjeta y tiene descuento? {expresion_1}\")\n",
        "print(f\"¿El cliente pagó con tarjeta o tiene descuento? {expresion_2}\")\n",
        "print(f\"Niega el valor de tiene_descuento: {expresion_3}\")"
      ],
      "metadata": {
        "colab": {
          "base_uri": "https://localhost:8080/"
        },
        "id": "bGNV71BgJYAF",
        "outputId": "265a139c-a0aa-4317-d2eb-d3a646b6ed55"
      },
      "execution_count": 5,
      "outputs": [
        {
          "output_type": "stream",
          "name": "stdout",
          "text": [
            "¿El cliente pagó con tarjeta y tiene descuento? False\n",
            "¿El cliente pagó con tarjeta o tiene descuento? True\n",
            "Niega el valor de tiene_descuento: True\n"
          ]
        }
      ]
    },
    {
      "cell_type": "code",
      "source": [
        "# Solicitar datos al usuario\n",
        "edad = int(input(\"Ingresa tu edad: \"))\n",
        "altura = float(input(\"Ingresa tu altura en metros: \"))\n",
        "monto_compra = float(input(\"Ingresa el monto de la compra: $\"))\n",
        "\n",
        "# Mostrar el tipo de cada dato ingresado\n",
        "print(f\"\\nTipo de dato de edad: {type(edad)}\")\n",
        "print(f\"Tipo de dato de altura: {type(altura)}\")\n",
        "print(f\"Tipo de dato de monto de compra: {type(monto_compra)}\")\n",
        "\n",
        "# Evaluar si el usuario es mayor de edad\n",
        "es_mayor_edad = edad >= 18\n",
        "if es_mayor_edad:\n",
        "    print(\"\\nEl usuario es mayor de edad.\")\n",
        "else:\n",
        "    print(\"\\nEl usuario no es mayor de edad.\")\n",
        "\n",
        "# Evaluar si la compra excede los $500\n",
        "compra_excede_500 = monto_compra > 500\n",
        "if compra_excede_500:\n",
        "    print(\"\\nLa compra excede los $500.\")\n",
        "else:\n",
        "    print(\"\\nLa compra no excede los $500.\")\n",
        "\n",
        "# Evaluar si el usuario es mayor de edad y su compra excede los $500\n",
        "if es_mayor_edad and compra_excede_500:\n",
        "    print(\"\\nEl usuario es mayor de edad y su compra excede los $500.\")\n",
        "else:\n",
        "    print(\"\\nEl usuario no es mayor de edad o su compra no excede los $500.\")"
      ],
      "metadata": {
        "colab": {
          "base_uri": "https://localhost:8080/"
        },
        "id": "czoruX3IJjMT",
        "outputId": "dc681c18-fe8d-4186-8e52-d9693083334f"
      },
      "execution_count": 6,
      "outputs": [
        {
          "output_type": "stream",
          "name": "stdout",
          "text": [
            "Ingresa tu edad: 18\n",
            "Ingresa tu altura en metros: 1.64\n",
            "Ingresa el monto de la compra: $5000\n",
            "\n",
            "Tipo de dato de edad: <class 'int'>\n",
            "Tipo de dato de altura: <class 'float'>\n",
            "Tipo de dato de monto de compra: <class 'float'>\n",
            "\n",
            "El usuario es mayor de edad.\n",
            "\n",
            "La compra excede los $500.\n",
            "\n",
            "El usuario es mayor de edad y su compra excede los $500.\n"
          ]
        }
      ]
    },
    {
      "cell_type": "code",
      "source": [
        "# Solicitar edades\n",
        "edad1 = int(input(\"Ingresa la edad del primer compañero: \"))\n",
        "edad2 = int(input(\"Ingresa la edad del segundo compañero: \"))\n",
        "edad3 = int(input(\"Ingresa la edad del tercer compañero: \"))\n",
        "\n",
        "# Lista de edades\n",
        "edades = [edad1, edad2, edad3]\n",
        "\n",
        "# Encontrar mayor, menor y promedio\n",
        "edad_mayor = max(edades)\n",
        "edad_menor = min(edades)\n",
        "promedio = sum(edades) / len(edades)\n",
        "rango = edad_mayor - edad_menor\n",
        "\n",
        "# Mostrar resultados\n",
        "print(\"\\n--- Resultados ---\")\n",
        "print(f\"Edad mayor: {edad_mayor}\")\n",
        "print(f\"Edad menor: {edad_menor}\")\n",
        "print(f\"Promedio de edades: {promedio:.2f}\")\n",
        "print(f\"Rango (mayor - menor): {rango}\")"
      ],
      "metadata": {
        "colab": {
          "base_uri": "https://localhost:8080/"
        },
        "id": "IbSkT5m0J3Lz",
        "outputId": "645ebafc-faae-4c5b-e19a-78f3bfe0cc39"
      },
      "execution_count": 7,
      "outputs": [
        {
          "output_type": "stream",
          "name": "stdout",
          "text": [
            "Ingresa la edad del primer compañero: 15\n",
            "Ingresa la edad del segundo compañero: 18\n",
            "Ingresa la edad del tercer compañero: 20\n",
            "\n",
            "--- Resultados ---\n",
            "Edad mayor: 20\n",
            "Edad menor: 15\n",
            "Promedio de edades: 17.67\n",
            "Rango (mayor - menor): 5\n"
          ]
        }
      ]
    },
    {
      "cell_type": "code",
      "source": [],
      "metadata": {
        "id": "YbX4RJaYKRRS"
      },
      "execution_count": null,
      "outputs": []
    }
  ]
}