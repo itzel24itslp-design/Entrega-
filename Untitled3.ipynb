{
  "nbformat": 4,
  "nbformat_minor": 0,
  "metadata": {
    "colab": {
      "provenance": [],
      "authorship_tag": "ABX9TyPCz/lakdZQ4kwAV/OSsNgW",
      "include_colab_link": true
    },
    "kernelspec": {
      "name": "python3",
      "display_name": "Python 3"
    },
    "language_info": {
      "name": "python"
    }
  },
  "cells": [
    {
      "cell_type": "markdown",
      "metadata": {
        "id": "view-in-github",
        "colab_type": "text"
      },
      "source": [
        "<a href=\"https://colab.research.google.com/github/itzel24itslp-design/Entrega-/blob/main/Untitled3.ipynb\" target=\"_parent\"><img src=\"https://colab.research.google.com/assets/colab-badge.svg\" alt=\"Open In Colab\"/></a>"
      ]
    },
    {
      "cell_type": "code",
      "source": [
        "################### OPERADORES #####################\n",
        "\n",
        "# Un operador es un signo que utilizamos para señalar que operacion realizamos entre dos o más operandos, por ejemplo el operador de suma, el de resta,\n",
        "# multiplicación y otros más específicos de la programación\n",
        "\n",
        "################### OPERADORES ARITMETICOS #####################\n",
        "suma = 1 + 1\n",
        "resta = 1 - 1\n",
        "multiplicacion = 10 * 10\n",
        "divicion_con_desimales = 18 / 5\n",
        "divicion_sin_desimales = 18 // 5\n",
        "# instruccion para calcular el residuo de dos numeros\n",
        "modulo = 11 / 10\n",
        "potencia = 2 ** 3\n",
        "\n",
        "\n",
        "################### OPERADORES RELACIONALES #####################\n",
        "mayor_que = 2>1\n",
        "menor_que = 1<2\n",
        "igual_que = 1==1\n",
        "mayor_o_igual_que = 2>=1\n",
        "menor_o_igual_que = 1<=2\n",
        "distinto_que = 2!=1\n",
        "\n",
        "################### OPERADORES LOGICOS #####################\n",
        "and_operation = True and True\n",
        "or_operation = True or False\n",
        "not_operation = not False\n",
        "\n",
        "################### OPERADORES DE PERTENENCIA #####################\n",
        "\n",
        "################### OPERADORES DE IDENTIDAD #####################\n",
        "\n",
        "\n",
        "\n",
        "\n",
        "\n",
        "################### OPERADORES DE EDAD #####################\n",
        "# Solicitar edades\n",
        "edad1 = int(input(\"Ingresa la edad del primer compañero: \"))\n",
        "edad2 = int(input(\"Ingresa la edad del segundo compañero: \"))\n",
        "edad3 = int(input(\"Ingresa la edad del tercer compañero: \"))\n",
        "\n",
        "# Lista de edades\n",
        "edades = [edad1, edad2, edad3]\n",
        "\n",
        "# Encontrar mayor, menor y promedio\n",
        "edad_mayor = max(edades)\n",
        "edad_menor = min(edades)\n",
        "promedio = sum(edades) / len(edades)\n",
        "rango = edad_mayor - edad_menor\n",
        "\n",
        "# Mostrar resultados\n",
        "print(\"\\n--- Resultados ---\")\n",
        "print(f\"Edad mayor: {edad_mayor}\")\n",
        "print(f\"Edad menor: {edad_menor}\")\n",
        "print(f\"Promedio de edades: {promedio:.2f}\")\n",
        "print(f\"Rango (mayor - menor): {rango}\")"
      ],
      "metadata": {
        "colab": {
          "base_uri": "https://localhost:8080/"
        },
        "id": "Bu5kyIfs-Amn",
        "outputId": "26b40fc4-e8e9-4315-8f26-993460e47861"
      },
      "execution_count": null,
      "outputs": [
        {
          "output_type": "stream",
          "name": "stdout",
          "text": [
            "Ingresa la edad del primer compañero: 18\n",
            "Ingresa la edad del segundo compañero: 15  \n",
            "Ingresa la edad del tercer compañero: 20\n",
            "\n",
            "--- Resultados ---\n",
            "Edad mayor: 20\n",
            "Edad menor: 15\n",
            "Promedio de edades: 17.67\n",
            "Rango (mayor - menor): 5\n"
          ]
        }
      ]
    },
    {
      "cell_type": "code",
      "source": [
        "suma"
      ],
      "metadata": {
        "colab": {
          "base_uri": "https://localhost:8080/"
        },
        "id": "8YuwX-BpGQvx",
        "outputId": "4fad6b14-d89b-41df-8013-f4dc5b5df05b"
      },
      "execution_count": null,
      "outputs": [
        {
          "output_type": "execute_result",
          "data": {
            "text/plain": [
              "2"
            ]
          },
          "metadata": {},
          "execution_count": 26
        }
      ]
    },
    {
      "cell_type": "code",
      "source": [
        "resta"
      ],
      "metadata": {
        "colab": {
          "base_uri": "https://localhost:8080/"
        },
        "id": "nZjyQj9vB4J_",
        "outputId": "764096c9-0f06-463f-84e8-ca5f5c8b44d2"
      },
      "execution_count": null,
      "outputs": [
        {
          "output_type": "execute_result",
          "data": {
            "text/plain": [
              "0"
            ]
          },
          "metadata": {},
          "execution_count": 27
        }
      ]
    },
    {
      "cell_type": "code",
      "source": [
        "multiplicacion"
      ],
      "metadata": {
        "colab": {
          "base_uri": "https://localhost:8080/"
        },
        "id": "OEOyIvyMB8KA",
        "outputId": "828b519b-c409-48e1-badd-18cc6a0c8c66"
      },
      "execution_count": null,
      "outputs": [
        {
          "output_type": "execute_result",
          "data": {
            "text/plain": [
              "100"
            ]
          },
          "metadata": {},
          "execution_count": 31
        }
      ]
    },
    {
      "cell_type": "code",
      "source": [
        "divicion_con_desimales"
      ],
      "metadata": {
        "colab": {
          "base_uri": "https://localhost:8080/"
        },
        "id": "tdfO9SkwCAqA",
        "outputId": "fefb6d57-40f2-48e0-9422-a86914930744"
      },
      "execution_count": null,
      "outputs": [
        {
          "output_type": "execute_result",
          "data": {
            "text/plain": [
              "3.6"
            ]
          },
          "metadata": {},
          "execution_count": 32
        }
      ]
    },
    {
      "cell_type": "code",
      "source": [
        "divicion_sin_desimales"
      ],
      "metadata": {
        "colab": {
          "base_uri": "https://localhost:8080/"
        },
        "id": "vfLrTz0lCAq-",
        "outputId": "ab989c8a-07a5-418e-d367-ad190eb62d99"
      },
      "execution_count": null,
      "outputs": [
        {
          "output_type": "execute_result",
          "data": {
            "text/plain": [
              "3"
            ]
          },
          "metadata": {},
          "execution_count": 33
        }
      ]
    },
    {
      "cell_type": "code",
      "source": [
        "modulo"
      ],
      "metadata": {
        "colab": {
          "base_uri": "https://localhost:8080/"
        },
        "id": "o2Z_gc6SCNo4",
        "outputId": "7eb8df36-01e9-42b3-90b3-455ad9f39cf6"
      },
      "execution_count": null,
      "outputs": [
        {
          "output_type": "execute_result",
          "data": {
            "text/plain": [
              "1.1"
            ]
          },
          "metadata": {},
          "execution_count": 34
        }
      ]
    },
    {
      "cell_type": "code",
      "source": [
        "potencia"
      ],
      "metadata": {
        "colab": {
          "base_uri": "https://localhost:8080/"
        },
        "id": "FiYRV4XaBxkA",
        "outputId": "073025f9-cdcd-46bc-f149-8f332c698fd3"
      },
      "execution_count": null,
      "outputs": [
        {
          "output_type": "execute_result",
          "data": {
            "text/plain": [
              "8"
            ]
          },
          "metadata": {},
          "execution_count": 35
        }
      ]
    },
    {
      "cell_type": "code",
      "source": [
        "mayor_que"
      ],
      "metadata": {
        "colab": {
          "base_uri": "https://localhost:8080/"
        },
        "id": "4u5Zb6x8-Gev",
        "outputId": "6eeb29ca-4987-4d58-ebe8-5190259c2299"
      },
      "execution_count": null,
      "outputs": [
        {
          "output_type": "execute_result",
          "data": {
            "text/plain": [
              "True"
            ]
          },
          "metadata": {},
          "execution_count": 36
        }
      ]
    },
    {
      "cell_type": "code",
      "source": [
        "menor_que"
      ],
      "metadata": {
        "colab": {
          "base_uri": "https://localhost:8080/"
        },
        "id": "4zBkGZ6Y-J8H",
        "outputId": "7b3e8d32-bbfc-4f1e-eeed-27e18e9126db"
      },
      "execution_count": null,
      "outputs": [
        {
          "output_type": "execute_result",
          "data": {
            "text/plain": [
              "True"
            ]
          },
          "metadata": {},
          "execution_count": 37
        }
      ]
    },
    {
      "cell_type": "code",
      "source": [
        "igual_que"
      ],
      "metadata": {
        "colab": {
          "base_uri": "https://localhost:8080/"
        },
        "id": "MXuF6Sng-OfX",
        "outputId": "0f7d189b-c706-430c-8366-fd3fe83644d0"
      },
      "execution_count": null,
      "outputs": [
        {
          "output_type": "execute_result",
          "data": {
            "text/plain": [
              "True"
            ]
          },
          "metadata": {},
          "execution_count": 38
        }
      ]
    },
    {
      "cell_type": "code",
      "source": [
        "mayor_o_igual_que"
      ],
      "metadata": {
        "colab": {
          "base_uri": "https://localhost:8080/"
        },
        "id": "OUHqiHcP-S3H",
        "outputId": "cee9fc56-b88b-43e8-9cd6-6766125a9244"
      },
      "execution_count": null,
      "outputs": [
        {
          "output_type": "execute_result",
          "data": {
            "text/plain": [
              "True"
            ]
          },
          "metadata": {},
          "execution_count": 39
        }
      ]
    },
    {
      "cell_type": "code",
      "source": [
        "menor_o_igual_que"
      ],
      "metadata": {
        "colab": {
          "base_uri": "https://localhost:8080/"
        },
        "id": "jz5kq3oy94TH",
        "outputId": "9c63e843-427b-4cc5-97be-9f515bc9b6a2"
      },
      "execution_count": null,
      "outputs": [
        {
          "output_type": "execute_result",
          "data": {
            "text/plain": [
              "True"
            ]
          },
          "metadata": {},
          "execution_count": 40
        }
      ]
    },
    {
      "cell_type": "code",
      "source": [
        "distinto_que"
      ],
      "metadata": {
        "colab": {
          "base_uri": "https://localhost:8080/"
        },
        "id": "ARsqjQBsHtvm",
        "outputId": "848badfe-c619-4146-f05d-d5928b7a8aaf"
      },
      "execution_count": null,
      "outputs": [
        {
          "output_type": "execute_result",
          "data": {
            "text/plain": [
              "True"
            ]
          },
          "metadata": {},
          "execution_count": 3
        }
      ]
    },
    {
      "cell_type": "code",
      "source": [
        "and_operation"
      ],
      "metadata": {
        "colab": {
          "base_uri": "https://localhost:8080/"
        },
        "id": "UHcQwCH4IW7K",
        "outputId": "405a896d-4f27-40ac-eebc-64e7f851be55"
      },
      "execution_count": null,
      "outputs": [
        {
          "output_type": "execute_result",
          "data": {
            "text/plain": [
              "True"
            ]
          },
          "metadata": {},
          "execution_count": 4
        }
      ]
    },
    {
      "cell_type": "code",
      "source": [
        "or_operation"
      ],
      "metadata": {
        "colab": {
          "base_uri": "https://localhost:8080/"
        },
        "id": "muBmI9txIqI_",
        "outputId": "9e55499b-3015-40d6-e94a-bffcea58b86d"
      },
      "execution_count": null,
      "outputs": [
        {
          "output_type": "execute_result",
          "data": {
            "text/plain": [
              "True"
            ]
          },
          "metadata": {},
          "execution_count": 5
        }
      ]
    },
    {
      "cell_type": "code",
      "source": [
        "not_operation"
      ],
      "metadata": {
        "colab": {
          "base_uri": "https://localhost:8080/"
        },
        "id": "8HRvck0OI15o",
        "outputId": "bd85b1af-c935-46e8-d998-5f32a12164c0"
      },
      "execution_count": null,
      "outputs": [
        {
          "output_type": "execute_result",
          "data": {
            "text/plain": [
              "True"
            ]
          },
          "metadata": {},
          "execution_count": 38
        }
      ]
    },
    {
      "cell_type": "code",
      "source": [
        "################### 1.CREACIÓN DE LISTAS #####################\n",
        "\n",
        "# 1. Lista vacía\n",
        "lista_vacia = []\n",
        "lista_vacia = list()\n",
        "# 2. Lista con elementos\n",
        "motocicletas = ['honda', 'yamaha', 'ducati', 'honda']\n",
        "\n",
        "################### 2.INSERCIONES Y ACTUALIZACIONES #####################\n",
        "\n",
        "motocicletas.append('ducati')\n",
        "motocicletas.insert(0, 'daelim')\n",
        "\n",
        "\n",
        "################### 3.BORRADOS #####################\n",
        "\n",
        "elemento_cero = motocicletas.pop(0)\n",
        "ultimo_elemento = motocicletas.pop()\n",
        "motocicletas.remove('yamaha')\n",
        "motocicletas.clear()\n",
        "# Borrar todas las apariciones de un elemento de la lista.\n",
        "while 'honda' in motocicletas:\n",
        "    motocicletas.remove('honda')\n",
        "\n",
        "################# 4.ACCESO A LAS LISTAS ######################\n",
        "\n",
        "# La forma de acceder a los elementos de una lista es con el operador [inicio:fin]. Indicando el inicio de elementos que quieres de la lista\n",
        "# y fin indica el elemento - 1 que va recoger de la lista. Los indices empiezan en 0.\n",
        "\n",
        "numeros = [1,2,3,4,5]\n",
        "\n",
        "primer_elemento = numeros[0]\n",
        "dos_primeros_elementos = numeros[0:2]\n",
        "ultimo_elemento = numeros[-1]\n",
        "dos_ultimos_elementos = numeros[-2:]"
      ],
      "metadata": {
        "id": "tgW00jNLacuK"
      },
      "execution_count": null,
      "outputs": []
    },
    {
      "cell_type": "code",
      "source": [
        "print(\"el primer elemento es\", primer_elemento)\n",
        "print(\"los dos primeros elementos son\", dos_primeros_elemento)\n",
        "print(\"el ultimo elemento es\", ultimo_elemento)\n",
        "print(\"los dos segundos elementos son\", dos_segundo_elemento)\n",
        "n"
      ],
      "metadata": {
        "colab": {
          "base_uri": "https://localhost:8080/"
        },
        "id": "DRkE4pFxOXm4",
        "outputId": "15fdd760-6894-4b2d-d391-c1d6630c6df5"
      },
      "execution_count": null,
      "outputs": [
        {
          "output_type": "stream",
          "name": "stdout",
          "text": [
            "el primer elemento es 1\n",
            "los dos primeros elementos son [1, 2]\n",
            "el ultimo elemento es 5\n",
            "los dos segundos elementos son [4, 5]\n"
          ]
        },
        {
          "output_type": "execute_result",
          "data": {
            "text/plain": [
              "5"
            ]
          },
          "metadata": {},
          "execution_count": 37
        }
      ]
    },
    {
      "cell_type": "code",
      "source": [
        "n = len(motocicletas)\n",
        "for i in range (0,n):\n",
        "    print(motocicletas[i])\n",
        "\n",
        "print(\"se borraron\",contador)"
      ],
      "metadata": {
        "colab": {
          "base_uri": "https://localhost:8080/"
        },
        "id": "9GCgjezdCaHY",
        "outputId": "3f4f0044-ef52-4c6f-83e6-219a4c1a3e73"
      },
      "execution_count": null,
      "outputs": [
        {
          "output_type": "stream",
          "name": "stdout",
          "text": [
            "ducati\n",
            "suzuki\n",
            "se borraron 2\n"
          ]
        }
      ]
    },
    {
      "cell_type": "code",
      "source": [
        "elemento_cero"
      ],
      "metadata": {
        "colab": {
          "base_uri": "https://localhost:8080/",
          "height": 36
        },
        "id": "oVAa1bVAHC_H",
        "outputId": "348726d9-cda2-4a77-97c6-c9dbe4a8a87e"
      },
      "execution_count": null,
      "outputs": [
        {
          "output_type": "execute_result",
          "data": {
            "text/plain": [
              "'daelim'"
            ],
            "application/vnd.google.colaboratory.intrinsic+json": {
              "type": "string"
            }
          },
          "metadata": {},
          "execution_count": 25
        }
      ]
    },
    {
      "cell_type": "code",
      "source": [
        "ultimo_elemento"
      ],
      "metadata": {
        "colab": {
          "base_uri": "https://localhost:8080/",
          "height": 36
        },
        "id": "8Aovx9GQHrUn",
        "outputId": "9bcafe36-a8f9-49e8-c21f-11407555d9bb"
      },
      "execution_count": null,
      "outputs": [
        {
          "output_type": "execute_result",
          "data": {
            "text/plain": [
              "'ducati'"
            ],
            "application/vnd.google.colaboratory.intrinsic+json": {
              "type": "string"
            }
          },
          "metadata": {},
          "execution_count": 30
        }
      ]
    },
    {
      "cell_type": "code",
      "source": [
        "motocicletas"
      ],
      "metadata": {
        "colab": {
          "base_uri": "https://localhost:8080/"
        },
        "id": "JLrnmIc0RPXv",
        "outputId": "0e9ceb09-1c4a-4e93-f585-0fea2eade13c"
      },
      "execution_count": null,
      "outputs": [
        {
          "output_type": "execute_result",
          "data": {
            "text/plain": [
              "[]"
            ]
          },
          "metadata": {},
          "execution_count": 43
        }
      ]
    },
    {
      "cell_type": "code",
      "source": [
        "################### 1.CREACIÓN DE SETS #####################\n",
        "\n",
        "# 1. set vacío\n",
        "nuevo_set = set()\n",
        "\n",
        "\n",
        "# 2. Inicializar un set con elementos\n",
        "nuevo_set = {'uno', 'dos'}\n",
        "\n",
        "################### 2.INSERTAR Y ACTUALIZAR #####################\n",
        "nuevo_set.update({'dos', 'tres'})\n",
        "copia_set = nuevo_set.copy()\n",
        "################### 3.BORRADOS #####################\n",
        "copia_set.discard ('dos')\n",
        "\n",
        "################### 4.OPERACIONES DE SETS #####################\n",
        "set_uno = {1,2,3,4}\n",
        "set_dos = {4,5,6,7}\n",
        "\n",
        "################### 5.ACCESO A LOS SETS #####################\n",
        "set_diferencia = set_uno.difference(set_dos)\n",
        "set_interseccion = set_uno.intersection(set_dos)\n",
        "set_union = set_uno.union(set_dos)\n",
        "\n",
        "#No hay una forma de acceder de forma indexada\n",
        "for element in set_uno:\n",
        "    print(element)"
      ],
      "metadata": {
        "colab": {
          "base_uri": "https://localhost:8080/"
        },
        "id": "ym8I750pBYPk",
        "outputId": "4232a39a-7f69-4c8a-aaf5-9ebf2a707055"
      },
      "execution_count": null,
      "outputs": [
        {
          "output_type": "stream",
          "name": "stdout",
          "text": [
            "1\n",
            "2\n",
            "3\n",
            "4\n"
          ]
        }
      ]
    },
    {
      "cell_type": "code",
      "source": [
        "copia_set.clear()"
      ],
      "metadata": {
        "id": "fzI5-SwnHzUp"
      },
      "execution_count": null,
      "outputs": []
    },
    {
      "cell_type": "code",
      "source": [
        "nuevo_set"
      ],
      "metadata": {
        "colab": {
          "base_uri": "https://localhost:8080/"
        },
        "id": "rcVpa7n2BbS7",
        "outputId": "146e8071-9376-4efe-899a-b687b54fd0ce"
      },
      "execution_count": null,
      "outputs": [
        {
          "output_type": "execute_result",
          "data": {
            "text/plain": [
              "set()"
            ]
          },
          "metadata": {},
          "execution_count": 3
        }
      ]
    },
    {
      "cell_type": "code",
      "source": [
        "nuevo_set"
      ],
      "metadata": {
        "colab": {
          "base_uri": "https://localhost:8080/"
        },
        "id": "gA4myySlBbR0",
        "outputId": "48ee4727-94ac-4e75-b2a2-b7abcb28f710"
      },
      "execution_count": null,
      "outputs": [
        {
          "output_type": "execute_result",
          "data": {
            "text/plain": [
              "{'dos', 'uno'}"
            ]
          },
          "metadata": {},
          "execution_count": 5
        }
      ]
    },
    {
      "cell_type": "code",
      "source": [
        "nuevo_set"
      ],
      "metadata": {
        "colab": {
          "base_uri": "https://localhost:8080/"
        },
        "id": "EhIpNQ82FyfC",
        "outputId": "7d084f9f-6102-47f8-f8ad-a13f7d2501bc"
      },
      "execution_count": null,
      "outputs": [
        {
          "output_type": "execute_result",
          "data": {
            "text/plain": [
              "{'dos', 'tres', 'uno'}"
            ]
          },
          "metadata": {},
          "execution_count": 14
        }
      ]
    },
    {
      "cell_type": "code",
      "source": [
        "copia_set"
      ],
      "metadata": {
        "colab": {
          "base_uri": "https://localhost:8080/"
        },
        "id": "siq8utpQG02x",
        "outputId": "f800612b-4b0f-4392-c425-80f5cef11076"
      },
      "execution_count": null,
      "outputs": [
        {
          "output_type": "execute_result",
          "data": {
            "text/plain": [
              "{'dos', 'tres', 'uno'}"
            ]
          },
          "metadata": {},
          "execution_count": 16
        }
      ]
    },
    {
      "cell_type": "code",
      "source": [
        "copia_set"
      ],
      "metadata": {
        "colab": {
          "base_uri": "https://localhost:8080/"
        },
        "id": "kAyNXs_vIIjn",
        "outputId": "51785e39-e3d8-49cc-9c6e-264ee75e807a"
      },
      "execution_count": null,
      "outputs": [
        {
          "output_type": "execute_result",
          "data": {
            "text/plain": [
              "{'tres', 'uno'}"
            ]
          },
          "metadata": {},
          "execution_count": 21
        }
      ]
    },
    {
      "cell_type": "code",
      "source": [
        "set_uno"
      ],
      "metadata": {
        "colab": {
          "base_uri": "https://localhost:8080/"
        },
        "id": "d5tF95rHJYZv",
        "outputId": "fa92943d-d6b2-490c-b883-d35858be8e2b"
      },
      "execution_count": null,
      "outputs": [
        {
          "output_type": "execute_result",
          "data": {
            "text/plain": [
              "{1, 2, 3, 4}"
            ]
          },
          "metadata": {},
          "execution_count": 26
        }
      ]
    },
    {
      "cell_type": "code",
      "source": [
        "set_dos"
      ],
      "metadata": {
        "colab": {
          "base_uri": "https://localhost:8080/"
        },
        "id": "cBWBZPnNJeQ3",
        "outputId": "3a828570-719c-4c51-c4b2-99455fca4b38"
      },
      "execution_count": null,
      "outputs": [
        {
          "output_type": "execute_result",
          "data": {
            "text/plain": [
              "{4, 5, 6, 7}"
            ]
          },
          "metadata": {},
          "execution_count": 27
        }
      ]
    },
    {
      "cell_type": "code",
      "source": [
        "set_diferencia"
      ],
      "metadata": {
        "colab": {
          "base_uri": "https://localhost:8080/"
        },
        "id": "q51-NLjTJvJp",
        "outputId": "653045e6-45d0-4627-fc60-bc6cdaa1cb90"
      },
      "execution_count": null,
      "outputs": [
        {
          "output_type": "execute_result",
          "data": {
            "text/plain": [
              "{1, 2, 3}"
            ]
          },
          "metadata": {},
          "execution_count": 31
        }
      ]
    },
    {
      "cell_type": "code",
      "source": [
        "set_interseccion"
      ],
      "metadata": {
        "colab": {
          "base_uri": "https://localhost:8080/"
        },
        "id": "Bb8wKCXDJyin",
        "outputId": "3bae1574-298e-4a8b-d6f5-ee29518bb9ed"
      },
      "execution_count": null,
      "outputs": [
        {
          "output_type": "execute_result",
          "data": {
            "text/plain": [
              "{4}"
            ]
          },
          "metadata": {},
          "execution_count": 30
        }
      ]
    },
    {
      "cell_type": "code",
      "source": [
        "set_union"
      ],
      "metadata": {
        "colab": {
          "base_uri": "https://localhost:8080/"
        },
        "id": "WmZfKAJyJ4Vv",
        "outputId": "67381b19-c4bc-4350-febc-6acbd28ded4a"
      },
      "execution_count": null,
      "outputs": [
        {
          "output_type": "execute_result",
          "data": {
            "text/plain": [
              "{1, 2, 3, 4, 5, 6, 7}"
            ]
          },
          "metadata": {},
          "execution_count": 32
        }
      ]
    },
    {
      "cell_type": "code",
      "source": [
        "################### 1.CREACIÓN DE TUPLAS #####################\n",
        "tupla_vacia = ()\n",
        "\n",
        "################### 2.INSERTAR Y ACTUALIZAR #####################\n",
        "tupla_uno = ('Arturo','Lorenzo','Hernandez')\n",
        "tupla_dos = ('R2D2', 'Coder')\n",
        "################### 3.BORRADOS #####################\n",
        "del tupla_vacia\n",
        "\n",
        "################### 4.OPERACIONES DE TUPLAS #####################\n",
        "tupla_tres = tupla_uno + tupla_dos\n",
        "index_arturo = tupla_uno.index('Arturo')\n",
        "count_coder = tupla_uno.count('Coder')\n",
        "################### 5.ACCESO A LOS TUPLAS #####################\n",
        "\n",
        "# Acceso de forma indexada\n",
        "print(tupla_uno[0])\n",
        "# Acceso con intervalos de elementos\n",
        "print(tupla_uno[1:3])\n",
        "\n",
        "# Acceso con bucle for\n",
        "for elemento in tupla_tres:\n",
        "    print(elemento)"
      ],
      "metadata": {
        "colab": {
          "base_uri": "https://localhost:8080/"
        },
        "id": "LQU7HjG6LUUW",
        "outputId": "ec342e4e-dfb9-4d47-818c-e142dab8ee2f"
      },
      "execution_count": 25,
      "outputs": [
        {
          "output_type": "stream",
          "name": "stdout",
          "text": [
            "Arturo\n",
            "('Lorenzo', 'Hernandez')\n",
            "Arturo\n",
            "Lorenzo\n",
            "Hernandez\n",
            "R2D2\n",
            "Coder\n"
          ]
        }
      ]
    },
    {
      "cell_type": "code",
      "source": [
        "tupla_vacia"
      ],
      "metadata": {
        "colab": {
          "base_uri": "https://localhost:8080/"
        },
        "id": "5UmeF7yILoGN",
        "outputId": "73760f18-08ad-40ed-fb2a-620a9a5dcf42"
      },
      "execution_count": 3,
      "outputs": [
        {
          "output_type": "execute_result",
          "data": {
            "text/plain": [
              "()"
            ]
          },
          "metadata": {},
          "execution_count": 3
        }
      ]
    },
    {
      "cell_type": "code",
      "source": [
        "tupla_uno"
      ],
      "metadata": {
        "colab": {
          "base_uri": "https://localhost:8080/"
        },
        "id": "ZVOY1o7vMovl",
        "outputId": "0ccbdfd0-f995-4e43-fcec-930fc03a71f7"
      },
      "execution_count": 5,
      "outputs": [
        {
          "output_type": "execute_result",
          "data": {
            "text/plain": [
              "('Arturo', 'Lorenzo', 'Hernandez')"
            ]
          },
          "metadata": {},
          "execution_count": 5
        }
      ]
    },
    {
      "cell_type": "code",
      "source": [
        "tupla_dos"
      ],
      "metadata": {
        "colab": {
          "base_uri": "https://localhost:8080/"
        },
        "id": "mTVjQlUhMuVN",
        "outputId": "7023273f-e555-46ce-e777-e18355c67136"
      },
      "execution_count": 15,
      "outputs": [
        {
          "output_type": "execute_result",
          "data": {
            "text/plain": [
              "('R2D2', 'Coder')"
            ]
          },
          "metadata": {},
          "execution_count": 15
        }
      ]
    },
    {
      "cell_type": "code",
      "source": [
        "tupla_tres"
      ],
      "metadata": {
        "colab": {
          "base_uri": "https://localhost:8080/"
        },
        "id": "dG5ZJsdqOIkY",
        "outputId": "a25a5ee2-4c50-4739-a466-cd9f471514ba"
      },
      "execution_count": 13,
      "outputs": [
        {
          "output_type": "execute_result",
          "data": {
            "text/plain": [
              "('Arturo', 'Lorenzo', 'Hernandez', 'R2D2', 'Coder')"
            ]
          },
          "metadata": {},
          "execution_count": 13
        }
      ]
    },
    {
      "cell_type": "code",
      "source": [
        "index_arturo"
      ],
      "metadata": {
        "colab": {
          "base_uri": "https://localhost:8080/"
        },
        "id": "C69jzs2DOSkA",
        "outputId": "358f6ee5-bd76-4df0-cfaf-7348d7463564"
      },
      "execution_count": 16,
      "outputs": [
        {
          "output_type": "execute_result",
          "data": {
            "text/plain": [
              "0"
            ]
          },
          "metadata": {},
          "execution_count": 16
        }
      ]
    },
    {
      "cell_type": "code",
      "source": [
        "count_coder"
      ],
      "metadata": {
        "colab": {
          "base_uri": "https://localhost:8080/"
        },
        "id": "eHghFfsTOlcw",
        "outputId": "9c4f4c78-c23f-4132-a0cf-a4576858c709"
      },
      "execution_count": 18,
      "outputs": [
        {
          "output_type": "execute_result",
          "data": {
            "text/plain": [
              "0"
            ]
          },
          "metadata": {},
          "execution_count": 18
        }
      ]
    },
    {
      "cell_type": "code",
      "source": [
        "print(tupla_uno[0])"
      ],
      "metadata": {
        "colab": {
          "base_uri": "https://localhost:8080/"
        },
        "id": "1PADDrvROvhh",
        "outputId": "5cb97072-e60d-4f3e-e44b-1ba1b4611a83"
      },
      "execution_count": 20,
      "outputs": [
        {
          "output_type": "stream",
          "name": "stdout",
          "text": [
            "Arturo\n"
          ]
        }
      ]
    },
    {
      "cell_type": "code",
      "source": [
        "print(tupla_uno[1:3])"
      ],
      "metadata": {
        "colab": {
          "base_uri": "https://localhost:8080/"
        },
        "id": "fOQzbNvQO2uY",
        "outputId": "acb7fbfb-0c6d-4c44-83a8-6b0bc8e9019d"
      },
      "execution_count": 22,
      "outputs": [
        {
          "output_type": "stream",
          "name": "stdout",
          "text": [
            "('Lorenzo', 'Hernandez')\n"
          ]
        }
      ]
    },
    {
      "cell_type": "code",
      "source": [
        "################### 1.CREACIÓN Y ACCESO DE DICCIONARIOS #####################\n",
        "\n",
        "# Diccionario vacío inicializado con dict()\n",
        "diccionario = dict()\n",
        "\n",
        "# Diccionario definido con tuplas\n",
        "diccionario = dict([(\"clave1\", \"valor1\"), (\"clave2\", \"valor2\")])\n",
        "\n",
        "# Diccionario inicializado con valores\n",
        "tecnologias = {'Web': ['Javascript', 'Html', 'CSS'], 'Videojuegos' : ['Unity', 'C#']}\n",
        "\n",
        "\n",
        "################### 2.INSERCION Y ACTUALIZACION EN DICCIONARIOS #####################\n",
        "tecnologias['Data engineer'] = ['Python', 'Hadoop']\n",
        "tecnologias.update({'Desarrollo Movil': ['Android', 'IOS']})\n",
        "tecnologias['Web'].append('Angular')\n",
        "tecnologias['Web'] = []\n",
        "tecnologias.update({'Web': ['NodeJS']})\n",
        "\n",
        "\n",
        "################### 3.BORRADOS DE ELEMENTOS EN DICCIONARIOS #####################\n",
        "valor_borrado = tecnologias.pop('Data engineer')\n",
        "tecnologias.clear()\n",
        "\n",
        "\n",
        "################### 4.ACCESO A ELEMENTOS EN DICCIONARIOS #####################\n",
        "tecnologias_web = tecnologias.get('Web','No existe la clave Web')\n",
        "tecnologias_items = tecnologias.items()\n",
        "tecnologia_keys = tecnologias.keys()\n",
        "\n",
        "for key, value in tecnologias.items():\n",
        "    print(f\"La clave {key} está asociado al valor {value}\")"
      ],
      "metadata": {
        "id": "TBrMd1_ePmT4"
      },
      "execution_count": 64,
      "outputs": []
    },
    {
      "cell_type": "code",
      "source": [
        "diccionario"
      ],
      "metadata": {
        "colab": {
          "base_uri": "https://localhost:8080/"
        },
        "id": "P5yYU6etPl95",
        "outputId": "6656eb3b-4b2b-45e6-d11b-849858ef0db1"
      },
      "execution_count": 28,
      "outputs": [
        {
          "output_type": "execute_result",
          "data": {
            "text/plain": [
              "{}"
            ]
          },
          "metadata": {},
          "execution_count": 28
        }
      ]
    },
    {
      "cell_type": "code",
      "source": [
        "diccionario"
      ],
      "metadata": {
        "colab": {
          "base_uri": "https://localhost:8080/"
        },
        "id": "pLS0BMP_QT4Q",
        "outputId": "7d44bc96-0c28-48f2-b15c-21dfc78e138c"
      },
      "execution_count": 30,
      "outputs": [
        {
          "output_type": "execute_result",
          "data": {
            "text/plain": [
              "{'clave1': 'valor1', 'clave2': 'valor2'}"
            ]
          },
          "metadata": {},
          "execution_count": 30
        }
      ]
    },
    {
      "cell_type": "code",
      "source": [
        "tecnologias"
      ],
      "metadata": {
        "colab": {
          "base_uri": "https://localhost:8080/"
        },
        "id": "LIFzkvbQQZyo",
        "outputId": "fe3095ec-d6d9-4ce0-e807-57ef77a453c8"
      },
      "execution_count": 32,
      "outputs": [
        {
          "output_type": "execute_result",
          "data": {
            "text/plain": [
              "{'Web': ['Javascript', 'Html', 'CSS'], 'Videojuegos': ['Unity', 'C#']}"
            ]
          },
          "metadata": {},
          "execution_count": 32
        }
      ]
    },
    {
      "cell_type": "code",
      "source": [
        "tecnologias"
      ],
      "metadata": {
        "colab": {
          "base_uri": "https://localhost:8080/"
        },
        "id": "sJV1-7sNQkrw",
        "outputId": "e74f45fe-1bbf-41a3-b050-c1f3afba4377"
      },
      "execution_count": 34,
      "outputs": [
        {
          "output_type": "execute_result",
          "data": {
            "text/plain": [
              "{'Web': ['Javascript', 'Html', 'CSS'],\n",
              " 'Videojuegos': ['Unity', 'C#'],\n",
              " 'Data engineer': ['Python', 'Hadoop']}"
            ]
          },
          "metadata": {},
          "execution_count": 34
        }
      ]
    },
    {
      "cell_type": "code",
      "source": [
        "tecnologias"
      ],
      "metadata": {
        "colab": {
          "base_uri": "https://localhost:8080/"
        },
        "id": "n_mSUZpKRy6U",
        "outputId": "9fa29031-a8bd-4ce9-9922-dcd9d8320529"
      },
      "execution_count": 43,
      "outputs": [
        {
          "output_type": "execute_result",
          "data": {
            "text/plain": [
              "{'Web': ['NodeJS'],\n",
              " 'Videojuegos': ['Unity', 'C#'],\n",
              " 'Data engineer': ['Python', 'Hadoop'],\n",
              " 'Desarrollo Movil': ['Android', 'IOS']}"
            ]
          },
          "metadata": {},
          "execution_count": 43
        }
      ]
    },
    {
      "cell_type": "code",
      "source": [
        "tecnologias"
      ],
      "metadata": {
        "colab": {
          "base_uri": "https://localhost:8080/"
        },
        "id": "YZpqGCfWSe90",
        "outputId": "1ed8ddfd-707e-4714-a67b-142221648c9e"
      },
      "execution_count": 51,
      "outputs": [
        {
          "output_type": "execute_result",
          "data": {
            "text/plain": [
              "{'Web': [],\n",
              " 'Videojuegos': ['Unity', 'C#'],\n",
              " 'Data engineer': ['Python', 'Hadoop'],\n",
              " 'Desarrollo Movil': ['Android', 'IOS']}"
            ]
          },
          "metadata": {},
          "execution_count": 51
        }
      ]
    },
    {
      "cell_type": "code",
      "source": [
        "valor_borrado"
      ],
      "metadata": {
        "colab": {
          "base_uri": "https://localhost:8080/"
        },
        "id": "8_eq8AbmSvvU",
        "outputId": "b6b91321-2148-40a1-a769-ac7a8bcfc8f8"
      },
      "execution_count": 54,
      "outputs": [
        {
          "output_type": "execute_result",
          "data": {
            "text/plain": [
              "['Python', 'Hadoop']"
            ]
          },
          "metadata": {},
          "execution_count": 54
        }
      ]
    },
    {
      "cell_type": "code",
      "source": [
        "tecnologias"
      ],
      "metadata": {
        "colab": {
          "base_uri": "https://localhost:8080/"
        },
        "id": "fsWWnlB-S2DM",
        "outputId": "bd3eda23-5485-4763-a89f-96815d0c3c9e"
      },
      "execution_count": 56,
      "outputs": [
        {
          "output_type": "execute_result",
          "data": {
            "text/plain": [
              "{}"
            ]
          },
          "metadata": {},
          "execution_count": 56
        }
      ]
    },
    {
      "cell_type": "code",
      "source": [
        "tecnologias_web"
      ],
      "metadata": {
        "colab": {
          "base_uri": "https://localhost:8080/",
          "height": 36
        },
        "id": "jjeoG_QMS-BE",
        "outputId": "1d2fc975-05e9-4227-9726-5d42a7345f4c"
      },
      "execution_count": 58,
      "outputs": [
        {
          "output_type": "execute_result",
          "data": {
            "text/plain": [
              "'No existe la clave Web'"
            ],
            "application/vnd.google.colaboratory.intrinsic+json": {
              "type": "string"
            }
          },
          "metadata": {},
          "execution_count": 58
        }
      ]
    },
    {
      "cell_type": "code",
      "source": [
        "tecnologias_items"
      ],
      "metadata": {
        "colab": {
          "base_uri": "https://localhost:8080/"
        },
        "id": "4ZViFn4xTEId",
        "outputId": "1782c2f9-27ae-42d5-89c0-275300f69f53"
      },
      "execution_count": 60,
      "outputs": [
        {
          "output_type": "execute_result",
          "data": {
            "text/plain": [
              "dict_items([])"
            ]
          },
          "metadata": {},
          "execution_count": 60
        }
      ]
    },
    {
      "cell_type": "code",
      "source": [
        "tecnologia_keys"
      ],
      "metadata": {
        "colab": {
          "base_uri": "https://localhost:8080/"
        },
        "id": "aCmdGz3ETKQ8",
        "outputId": "0b094e71-e3dd-4fb6-dadc-409fe96aa085"
      },
      "execution_count": 62,
      "outputs": [
        {
          "output_type": "execute_result",
          "data": {
            "text/plain": [
              "dict_keys([])"
            ]
          },
          "metadata": {},
          "execution_count": 62
        }
      ]
    }
  ]
}